{
  "cells": [
    {
      "cell_type": "code",
      "execution_count": 1,
      "metadata": {
        "id": "6yB2O37sb9XM"
      },
      "outputs": [],
      "source": [
        "import torch\n",
        "from torch import nn\n",
        "import matplotlib.pyplot as plt\n",
        "import numpy as np\n",
        "import pandas as pd\n",
        "import torch.optim as optim"
      ]
    },
    {
      "cell_type": "markdown",
      "metadata": {
        "id": "rJM0ZmAkYFyJ"
      },
      "source": [
        "# Making the data"
      ]
    },
    {
      "cell_type": "markdown",
      "metadata": {
        "id": "CnGWGyOGYLBP"
      },
      "source": [
        "## Generating the data"
      ]
    },
    {
      "cell_type": "code",
      "execution_count": 2,
      "metadata": {
        "id": "_TjPC_qxfIQl"
      },
      "outputs": [],
      "source": [
        "weight =0.7\n",
        "bias=0.3\n",
        "X = torch.arange(0,1,0.02).unsqueeze(dim=1)\n",
        "y = weight * X + bias"
      ]
    },
    {
      "cell_type": "code",
      "execution_count": 3,
      "metadata": {
        "colab": {
          "base_uri": "https://localhost:8080/"
        },
        "id": "MYgCwag1mH4D",
        "outputId": "5e11e910-87c2-4bd6-c167-911de13e65f2"
      },
      "outputs": [
        {
          "data": {
            "text/plain": [
              "tensor([[0.0000],\n",
              "        [0.0200],\n",
              "        [0.0400],\n",
              "        [0.0600],\n",
              "        [0.0800]])"
            ]
          },
          "execution_count": 3,
          "metadata": {},
          "output_type": "execute_result"
        }
      ],
      "source": [
        "X[:5]"
      ]
    },
    {
      "cell_type": "markdown",
      "metadata": {
        "id": "pu5BUOq6YOmg"
      },
      "source": [
        "## Splitting for Training and Testing"
      ]
    },
    {
      "cell_type": "code",
      "execution_count": 4,
      "metadata": {
        "id": "4yWC6YJnfInC"
      },
      "outputs": [],
      "source": [
        "x_train = X[:int(0.8*len(X))]\n",
        "y_train = y[:int(0.8*len(X))]\n",
        "x_test = X[int(0.8*len(X)):]\n",
        "y_test = y[int(0.8*len(X)):]"
      ]
    },
    {
      "cell_type": "code",
      "execution_count": 5,
      "metadata": {
        "colab": {
          "base_uri": "https://localhost:8080/"
        },
        "id": "7NO0rNicivTf",
        "outputId": "19515b99-98d3-440e-fb50-f0985df1ff80"
      },
      "outputs": [
        {
          "data": {
            "text/plain": [
              "(torch.Size([40, 1]), torch.Size([40, 1]))"
            ]
          },
          "execution_count": 5,
          "metadata": {},
          "output_type": "execute_result"
        }
      ],
      "source": [
        "x_train.size() ,y_train.size()"
      ]
    },
    {
      "cell_type": "code",
      "execution_count": 6,
      "metadata": {
        "id": "iGgYvZrjkwod"
      },
      "outputs": [],
      "source": [
        "def plot_graph(x_train=x_train, y_train=y_train, x_test=x_test, y_test=y_test, predictions=None, prediction_range=None):\n",
        "  plt.figure(figsize=(5, 5))\n",
        "  plt.scatter(x_train, y_train, c=\"b\", s=4, label=\"training data\")\n",
        "  plt.scatter(x_test, y_test, c=\"g\", s=4, label=\"testing data\")\n",
        "  if predictions is not None:\n",
        "    if len(predictions) != len(x_test):\n",
        "      plt.plot(prediction_range, predictions, c=\"r\", label=\"predictions\")\n",
        "    else:\n",
        "      plt.scatter(x_test, predictions, s=4, c=\"r\", label=\"predictions\")\n",
        "  plt.legend(prop={\"size\": 14})\n",
        "  plt.show()"
      ]
    },
    {
      "cell_type": "markdown",
      "metadata": {
        "id": "Pzewyn2kYUki"
      },
      "source": [
        "## Plotting Initial data"
      ]
    },
    {
      "cell_type": "code",
      "execution_count": 7,
      "metadata": {
        "colab": {
          "base_uri": "https://localhost:8080/",
          "height": 445
        },
        "id": "AhzA_GaylOEX",
        "outputId": "b50fe998-e1f1-4d03-d5a1-bac67ca80ba2"
      },
      "outputs": [
        {
          "data": {
            "image/png": "[encoded data removed]",
            "text/plain": [
              "<Figure size 500x500 with 1 Axes>"
            ]
          },
          "metadata": {},
          "output_type": "display_data"
        }
      ],
      "source": [
        "plot_graph()"
      ]
    },
    {
      "cell_type": "markdown",
      "metadata": {
        "id": "Jqbg-H3gYXbv"
      },
      "source": [
        "# Constructing the Model"
      ]
    },
    {
      "cell_type": "markdown",
      "metadata": {
        "id": "uKvfdLCZYbmh"
      },
      "source": [
        "## Defining the Linear Model"
      ]
    },
    {
      "cell_type": "code",
      "execution_count": 8,
      "metadata": {
        "id": "2uB7LeikefdE"
      },
      "outputs": [],
      "source": [
        "class LinearRegressionModel(nn.Module):\n",
        "    def __init__(self):\n",
        "        super().__init__()\n",
        "        self.weights = nn.Parameter(torch.rand(1, requires_grad=True))\n",
        "        self.bias = nn.Parameter(torch.rand(1, requires_grad=True))\n",
        "    def forward(self, x:torch.Tensor)->torch.Tensor:\n",
        "        return self.weights * x + self.bias\n"
      ]
    },
    {
      "cell_type": "markdown",
      "metadata": {
        "id": "mGoeCX1oYfEH"
      },
      "source": [
        "## Model Instantiation"
      ]
    },
    {
      "cell_type": "code",
      "execution_count": 9,
      "metadata": {
        "id": "GY5gM97jefud"
      },
      "outputs": [],
      "source": [
        "torch.manual_seed(42)\n",
        "model = LinearRegressionModel()"
      ]
    },
    {
      "cell_type": "code",
      "execution_count": 10,
      "metadata": {
        "colab": {
          "base_uri": "https://localhost:8080/"
        },
        "id": "nzFmiGTkjaGQ",
        "outputId": "6beec7ad-3e2e-4185-b39e-73c42c48e39f"
      },
      "outputs": [
        {
          "data": {
            "text/plain": [
              "[Parameter containing:\n",
              " tensor([0.8823], requires_grad=True),\n",
              " Parameter containing:\n",
              " tensor([0.9150], requires_grad=True)]"
            ]
          },
          "execution_count": 10,
          "metadata": {},
          "output_type": "execute_result"
        }
      ],
      "source": [
        "list(model.parameters())"
      ]
    },
    {
      "cell_type": "markdown",
      "metadata": {
        "id": "iQfKf9naZYPM"
      },
      "source": [
        "## Pre-train predictions"
      ]
    },
    {
      "cell_type": "code",
      "execution_count": 11,
      "metadata": {
        "colab": {
          "base_uri": "https://localhost:8080/"
        },
        "id": "4X0Ul8mkZa6h",
        "outputId": "12c90176-c6c9-4a60-facc-1cb6e3f9ad6d"
      },
      "outputs": [
        {
          "data": {
            "text/plain": [
              "tensor([[1.6208],\n",
              "        [1.6385],\n",
              "        [1.6561],\n",
              "        [1.6738],\n",
              "        [1.6914]], grad_fn=<SliceBackward0>)"
            ]
          },
          "execution_count": 11,
          "metadata": {},
          "output_type": "execute_result"
        }
      ],
      "source": [
        "y_pred = model(x_test)\n",
        "y_pred[:5]"
      ]
    },
    {
      "cell_type": "code",
      "execution_count": 12,
      "metadata": {
        "colab": {
          "base_uri": "https://localhost:8080/",
          "height": 445
        },
        "id": "40PDJNi9ZxLY",
        "outputId": "ed7093c4-2bbb-4c7f-fb24-9d977554a9c3"
      },
      "outputs": [
        {
          "data": {
            "image/png": "[encoded data removed]",
            "text/plain": [
              "<Figure size 500x500 with 1 Axes>"
            ]
          },
          "metadata": {},
          "output_type": "display_data"
        }
      ],
      "source": [
        "plot_graph(predictions=y_pred.detach().numpy())"
      ]
    },
    {
      "cell_type": "markdown",
      "metadata": {
        "id": "I4CEtd3VYk-A"
      },
      "source": [
        "## Loss Function and Optimizer"
      ]
    },
    {
      "cell_type": "code",
      "execution_count": 13,
      "metadata": {
        "id": "XvbKGovbkau4"
      },
      "outputs": [],
      "source": [
        "loss_fn = nn.MSELoss()  # Mean Squared Error (convex for regression)\n",
        "optimizer = optim.SGD(params=model.parameters(), lr=0.01)\n"
      ]
    },
    {
      "cell_type": "markdown",
      "metadata": {
        "id": "Bs-Gy05CYplV"
      },
      "source": [
        "## Training Loop"
      ]
    },
    {
      "cell_type": "code",
      "execution_count": 14,
      "metadata": {
        "colab": {
          "base_uri": "https://localhost:8080/"
        },
        "id": "eaYbDd8tjjH-",
        "outputId": "fab91e6f-178e-4773-ef01-ea55c6c5e0b6"
      },
      "outputs": [
        {
          "name": "stdout",
          "output_type": "stream",
          "text": [
            "Epoch: 0 | Loss: 0.47248879075050354 | Test Loss: 0.5755255818367004\n",
            "Epoch: 400 | Loss: 9.021181176649407e-05 | Test Loss: 0.0003915414272341877\n",
            "Epoch: 800 | Loss: 4.3217667553108186e-05 | Test Loss: 0.00018883339362218976\n",
            "Epoch: 1200 | Loss: 2.0704870621557347e-05 | Test Loss: 9.046594641404226e-05\n",
            "Epoch: 1600 | Loss: 9.919742296915501e-06 | Test Loss: 4.3342985009076074e-05\n",
            "Epoch: 2000 | Loss: 4.752449513034662e-06 | Test Loss: 2.0764802684425376e-05\n"
          ]
        }
      ],
      "source": [
        "epochs = 2300\n",
        "\n",
        "# Setting the model to train mode\n",
        "model.train()\n",
        "\n",
        "# Training Loop\n",
        "for epoch in range(epochs):\n",
        "\n",
        "  # Forward Pass\n",
        "  y_pred = model(x_train)\n",
        "\n",
        "  # Computing Loss\n",
        "  loss= loss_fn(y_pred, y_train)\n",
        "\n",
        "  # Clearing past gradients\n",
        "  optimizer.zero_grad()\n",
        "\n",
        "  # Backpropogating\n",
        "  loss.backward()\n",
        "\n",
        "  # Computing Gradients and Updating Weights\n",
        "  optimizer.step()\n",
        "\n",
        "  # Validation Step\n",
        "  model.eval()\n",
        "  with torch.inference_mode():\n",
        "    test_pred = model(x_test)\n",
        "    test_loss = loss_fn(test_pred, y_test)\n",
        "\n",
        "    if epoch % 400 == 0:\n",
        "      print(f\"Epoch: {epoch} | Loss: {loss} | Test Loss: {test_loss}\")"
      ]
    },
    {
      "cell_type": "markdown",
      "metadata": {
        "id": "ZfUuedfDZBNP"
      },
      "source": [
        "## Updated Parameters"
      ]
    },
    {
      "cell_type": "code",
      "execution_count": 15,
      "metadata": {
        "colab": {
          "base_uri": "https://localhost:8080/"
        },
        "id": "xYjNr9nMl6FR",
        "outputId": "332891bf-15cc-4463-a225-7c58b3bfab9e"
      },
      "outputs": [
        {
          "data": {
            "text/plain": [
              "(Parameter containing:\n",
              " tensor([0.6929], requires_grad=True),\n",
              " Parameter containing:\n",
              " tensor([0.3029], requires_grad=True))"
            ]
          },
          "execution_count": 15,
          "metadata": {},
          "output_type": "execute_result"
        }
      ],
      "source": [
        "weight, bias = list(model.parameters())\n",
        "weight, bias"
      ]
    },
    {
      "cell_type": "markdown",
      "metadata": {
        "id": "1asw2-m6ZEk6"
      },
      "source": [
        "## Pedictions"
      ]
    },
    {
      "cell_type": "code",
      "execution_count": 16,
      "metadata": {
        "id": "twviEsQ5mYP2"
      },
      "outputs": [],
      "source": [
        "y_pred = model(x_test)"
      ]
    },
    {
      "cell_type": "markdown",
      "metadata": {
        "id": "0Gewm7ynZGGI"
      },
      "source": [
        "## Visualize"
      ]
    },
    {
      "cell_type": "code",
      "execution_count": 17,
      "metadata": {
        "colab": {
          "base_uri": "https://localhost:8080/",
          "height": 445
        },
        "id": "tOJs39FYmb1K",
        "outputId": "f07bb198-4680-461d-cbff-e5839e496078"
      },
      "outputs": [
        {
          "data": {
            "image/png": "[encoded data removed]",
            "text/plain": [
              "<Figure size 500x500 with 1 Axes>"
            ]
          },
          "metadata": {},
          "output_type": "display_data"
        }
      ],
      "source": [
        "plot_graph(predictions=y_pred.detach().numpy())"
      ]
    },
    {
      "cell_type": "markdown",
      "metadata": {
        "id": "hEGkATgUZJse"
      },
      "source": [
        "# Real Time Regression Problem"
      ]
    },
    {
      "cell_type": "code",
      "execution_count": 18,
      "metadata": {
        "colab": {
          "base_uri": "https://localhost:8080/",
          "height": 990
        },
        "id": "ytypByv5mgw_",
        "outputId": "9e7687c5-79d6-480c-a0e9-f11c28f469be"
      },
      "outputs": [
        {
          "data": {
            "text/html": [
              "<div>\n",
              "<style scoped>\n",
              "    .dataframe tbody tr th:only-of-type {\n",
              "        vertical-align: middle;\n",
              "    }\n",
              "\n",
              "    .dataframe tbody tr th {\n",
              "        vertical-align: top;\n",
              "    }\n",
              "\n",
              "    .dataframe thead th {\n",
              "        text-align: right;\n",
              "    }\n",
              "</style>\n",
              "<table border=\"1\" class=\"dataframe\">\n",
              "  <thead>\n",
              "    <tr style=\"text-align: right;\">\n",
              "      <th></th>\n",
              "      <th>YearsExperience</th>\n",
              "      <th>Salary</th>\n",
              "    </tr>\n",
              "  </thead>\n",
              "  <tbody>\n",
              "    <tr>\n",
              "      <th>0</th>\n",
              "      <td>1.1</td>\n",
              "      <td>39343</td>\n",
              "    </tr>\n",
              "    <tr>\n",
              "      <th>1</th>\n",
              "      <td>1.3</td>\n",
              "      <td>46205</td>\n",
              "    </tr>\n",
              "    <tr>\n",
              "      <th>2</th>\n",
              "      <td>1.5</td>\n",
              "      <td>37731</td>\n",
              "    </tr>\n",
              "    <tr>\n",
              "      <th>3</th>\n",
              "      <td>2.0</td>\n",
              "      <td>43525</td>\n",
              "    </tr>\n",
              "    <tr>\n",
              "      <th>4</th>\n",
              "      <td>2.2</td>\n",
              "      <td>39891</td>\n",
              "    </tr>\n",
              "    <tr>\n",
              "      <th>5</th>\n",
              "      <td>2.9</td>\n",
              "      <td>56642</td>\n",
              "    </tr>\n",
              "    <tr>\n",
              "      <th>6</th>\n",
              "      <td>3.0</td>\n",
              "      <td>60150</td>\n",
              "    </tr>\n",
              "    <tr>\n",
              "      <th>7</th>\n",
              "      <td>3.2</td>\n",
              "      <td>54445</td>\n",
              "    </tr>\n",
              "    <tr>\n",
              "      <th>8</th>\n",
              "      <td>3.2</td>\n",
              "      <td>64445</td>\n",
              "    </tr>\n",
              "    <tr>\n",
              "      <th>9</th>\n",
              "      <td>3.7</td>\n",
              "      <td>57189</td>\n",
              "    </tr>\n",
              "    <tr>\n",
              "      <th>10</th>\n",
              "      <td>3.9</td>\n",
              "      <td>63218</td>\n",
              "    </tr>\n",
              "    <tr>\n",
              "      <th>11</th>\n",
              "      <td>4.0</td>\n",
              "      <td>55794</td>\n",
              "    </tr>\n",
              "    <tr>\n",
              "      <th>12</th>\n",
              "      <td>4.0</td>\n",
              "      <td>56957</td>\n",
              "    </tr>\n",
              "    <tr>\n",
              "      <th>13</th>\n",
              "      <td>4.1</td>\n",
              "      <td>57081</td>\n",
              "    </tr>\n",
              "    <tr>\n",
              "      <th>14</th>\n",
              "      <td>4.5</td>\n",
              "      <td>61111</td>\n",
              "    </tr>\n",
              "    <tr>\n",
              "      <th>15</th>\n",
              "      <td>4.9</td>\n",
              "      <td>67938</td>\n",
              "    </tr>\n",
              "    <tr>\n",
              "      <th>16</th>\n",
              "      <td>5.1</td>\n",
              "      <td>66029</td>\n",
              "    </tr>\n",
              "    <tr>\n",
              "      <th>17</th>\n",
              "      <td>5.3</td>\n",
              "      <td>83088</td>\n",
              "    </tr>\n",
              "    <tr>\n",
              "      <th>18</th>\n",
              "      <td>5.9</td>\n",
              "      <td>81363</td>\n",
              "    </tr>\n",
              "    <tr>\n",
              "      <th>19</th>\n",
              "      <td>6.0</td>\n",
              "      <td>93940</td>\n",
              "    </tr>\n",
              "    <tr>\n",
              "      <th>20</th>\n",
              "      <td>6.8</td>\n",
              "      <td>91738</td>\n",
              "    </tr>\n",
              "    <tr>\n",
              "      <th>21</th>\n",
              "      <td>7.1</td>\n",
              "      <td>98273</td>\n",
              "    </tr>\n",
              "    <tr>\n",
              "      <th>22</th>\n",
              "      <td>7.9</td>\n",
              "      <td>101302</td>\n",
              "    </tr>\n",
              "    <tr>\n",
              "      <th>23</th>\n",
              "      <td>8.2</td>\n",
              "      <td>113812</td>\n",
              "    </tr>\n",
              "    <tr>\n",
              "      <th>24</th>\n",
              "      <td>8.7</td>\n",
              "      <td>109431</td>\n",
              "    </tr>\n",
              "    <tr>\n",
              "      <th>25</th>\n",
              "      <td>9.0</td>\n",
              "      <td>105582</td>\n",
              "    </tr>\n",
              "    <tr>\n",
              "      <th>26</th>\n",
              "      <td>9.5</td>\n",
              "      <td>116969</td>\n",
              "    </tr>\n",
              "    <tr>\n",
              "      <th>27</th>\n",
              "      <td>9.6</td>\n",
              "      <td>112635</td>\n",
              "    </tr>\n",
              "    <tr>\n",
              "      <th>28</th>\n",
              "      <td>10.3</td>\n",
              "      <td>122391</td>\n",
              "    </tr>\n",
              "    <tr>\n",
              "      <th>29</th>\n",
              "      <td>10.5</td>\n",
              "      <td>121872</td>\n",
              "    </tr>\n",
              "  </tbody>\n",
              "</table>\n",
              "</div>"
            ],
            "text/plain": [
              "    YearsExperience  Salary\n",
              "0               1.1   39343\n",
              "1               1.3   46205\n",
              "2               1.5   37731\n",
              "3               2.0   43525\n",
              "4               2.2   39891\n",
              "5               2.9   56642\n",
              "6               3.0   60150\n",
              "7               3.2   54445\n",
              "8               3.2   64445\n",
              "9               3.7   57189\n",
              "10              3.9   63218\n",
              "11              4.0   55794\n",
              "12              4.0   56957\n",
              "13              4.1   57081\n",
              "14              4.5   61111\n",
              "15              4.9   67938\n",
              "16              5.1   66029\n",
              "17              5.3   83088\n",
              "18              5.9   81363\n",
              "19              6.0   93940\n",
              "20              6.8   91738\n",
              "21              7.1   98273\n",
              "22              7.9  101302\n",
              "23              8.2  113812\n",
              "24              8.7  109431\n",
              "25              9.0  105582\n",
              "26              9.5  116969\n",
              "27              9.6  112635\n",
              "28             10.3  122391\n",
              "29             10.5  121872"
            ]
          },
          "execution_count": 18,
          "metadata": {},
          "output_type": "execute_result"
        }
      ],
      "source": [
        "import pandas as pd\n",
        "\n",
        "data = pd.read_csv(\"./data/Salary_Data.csv\")\n",
        "data"
      ]
    },
    {
      "cell_type": "code",
      "execution_count": 19,
      "metadata": {
        "id": "bHMXnjCGqoPE"
      },
      "outputs": [],
      "source": [
        "X = torch.tensor(data[\"YearsExperience\"], dtype=torch.float).unsqueeze(dim=1)\n",
        "y = torch.tensor(data['Salary'], dtype=torch.float).unsqueeze(dim=1)"
      ]
    },
    {
      "cell_type": "code",
      "execution_count": 20,
      "metadata": {
        "colab": {
          "base_uri": "https://localhost:8080/"
        },
        "id": "mNplXttbsC9W",
        "outputId": "e152b248-961b-46d9-e04c-c74797909ea1"
      },
      "outputs": [
        {
          "data": {
            "text/plain": [
              "tensor([[1.1000],\n",
              "        [1.3000],\n",
              "        [1.5000],\n",
              "        [2.0000],\n",
              "        [2.2000]])"
            ]
          },
          "execution_count": 20,
          "metadata": {},
          "output_type": "execute_result"
        }
      ],
      "source": [
        "X[: 5]"
      ]
    },
    {
      "cell_type": "code",
      "execution_count": 21,
      "metadata": {
        "id": "7JXk4jJjq2W6"
      },
      "outputs": [],
      "source": [
        "x_train = X[:int(0.8*len(X))]\n",
        "y_train = y[:int(0.8*len(X))]\n",
        "\n",
        "# x_test = torch.tensor(X[int(0.8*len(X)):])\n",
        "# y_test = torch.tensor(y[int(0.8*len(X)):])"
      ]
    },
    {
      "cell_type": "code",
      "execution_count": 22,
      "metadata": {
        "colab": {
          "base_uri": "https://localhost:8080/"
        },
        "id": "8xTBlHlUsKxB",
        "outputId": "9d6224fd-6e7a-481a-88ab-ed138bf9e98e"
      },
      "outputs": [
        {
          "data": {
            "text/plain": [
              "tensor([[1.1000],\n",
              "        [1.3000],\n",
              "        [1.5000],\n",
              "        [2.0000],\n",
              "        [2.2000]])"
            ]
          },
          "execution_count": 22,
          "metadata": {},
          "output_type": "execute_result"
        }
      ],
      "source": [
        "x_train[: 5]"
      ]
    },
    {
      "cell_type": "code",
      "execution_count": 23,
      "metadata": {
        "colab": {
          "base_uri": "https://localhost:8080/"
        },
        "id": "6A03uWfAsNPe",
        "outputId": "9e34a97f-b793-4526-c76a-1f73db9c0f83"
      },
      "outputs": [
        {
          "data": {
            "text/plain": [
              "tensor([[39343.],\n",
              "        [46205.],\n",
              "        [37731.],\n",
              "        [43525.],\n",
              "        [39891.]])"
            ]
          },
          "execution_count": 23,
          "metadata": {},
          "output_type": "execute_result"
        }
      ],
      "source": [
        "y_train[: 5]"
      ]
    },
    {
      "cell_type": "code",
      "execution_count": 24,
      "metadata": {
        "colab": {
          "base_uri": "https://localhost:8080/"
        },
        "id": "Z53dpjZRspZI",
        "outputId": "ef4ebdfb-73c8-4a04-eed2-bd6245565284"
      },
      "outputs": [
        {
          "data": {
            "text/plain": [
              "24"
            ]
          },
          "execution_count": 24,
          "metadata": {},
          "output_type": "execute_result"
        }
      ],
      "source": [
        "int(0.8*len(X))"
      ]
    },
    {
      "cell_type": "code",
      "execution_count": 25,
      "metadata": {
        "id": "jjDjWPXesPJM"
      },
      "outputs": [],
      "source": [
        "x_test = X[24:]\n",
        "y_test = y[24:]"
      ]
    },
    {
      "cell_type": "code",
      "execution_count": 26,
      "metadata": {
        "colab": {
          "base_uri": "https://localhost:8080/"
        },
        "id": "0Go_366EDSdL",
        "outputId": "94bad451-3fca-4d4f-f793-d0a4eddc292c"
      },
      "outputs": [
        {
          "data": {
            "text/plain": [
              "tensor([[39343.],\n",
              "        [46205.],\n",
              "        [37731.],\n",
              "        [43525.],\n",
              "        [39891.]])"
            ]
          },
          "execution_count": 26,
          "metadata": {},
          "output_type": "execute_result"
        }
      ],
      "source": [
        "y[: 5]"
      ]
    },
    {
      "cell_type": "code",
      "execution_count": 27,
      "metadata": {
        "colab": {
          "base_uri": "https://localhost:8080/",
          "height": 445
        },
        "id": "D1L9JVPXFAvH",
        "outputId": "1c9e57b3-8466-4c72-a081-6c80ca56a0f2"
      },
      "outputs": [
        {
          "data": {
            "image/png": "[encoded data removed]",
            "text/plain": [
              "<Figure size 500x500 with 1 Axes>"
            ]
          },
          "metadata": {},
          "output_type": "display_data"
        }
      ],
      "source": [
        "plot_graph(x_train, y_train, x_test, y_test)"
      ]
    },
    {
      "cell_type": "code",
      "execution_count": 28,
      "metadata": {
        "id": "FtRlSUDCq3Ki"
      },
      "outputs": [],
      "source": [
        "epochs = 2700\n",
        "\n",
        "model.train()\n",
        "\n",
        "# Training Loop\n",
        "for epoch in range(epochs):\n",
        "\n",
        "  # forward pass\n",
        "  y_pred_ = model(x_train)\n",
        "\n",
        "  # Computing loss\n",
        "  loss = loss_fn(y_pred_, y_train)\n",
        "\n",
        "  # Clearing Past gradients\n",
        "  optimizer.zero_grad()\n",
        "\n",
        "  # Backpropogation\n",
        "  loss.backward()\n",
        "\n",
        "  # Computing gradients and updating weights\n",
        "  optimizer.step()\n",
        "\n",
        "  # print(f\"Epoch: {epoch} | Loss: {loss}\")"
      ]
    },
    {
      "cell_type": "code",
      "execution_count": 29,
      "metadata": {
        "colab": {
          "base_uri": "https://localhost:8080/"
        },
        "id": "2iToZh_YrDkp",
        "outputId": "9dff23ee-76d8-4ac7-e5d6-da0aa06eac99"
      },
      "outputs": [
        {
          "data": {
            "text/plain": [
              "(Parameter containing:\n",
              " tensor([10053.1758], requires_grad=True),\n",
              " Parameter containing:\n",
              " tensor([23657.8555], requires_grad=True))"
            ]
          },
          "execution_count": 29,
          "metadata": {},
          "output_type": "execute_result"
        }
      ],
      "source": [
        "# Printing Updated weights\n",
        "weight, bias = list(model.parameters())\n",
        "weight, bias"
      ]
    },
    {
      "cell_type": "code",
      "execution_count": 30,
      "metadata": {
        "id": "OnkTplJQrGgE"
      },
      "outputs": [],
      "source": [
        "# Making final predictions\n",
        "y_pred = model(x_test)"
      ]
    },
    {
      "cell_type": "code",
      "execution_count": 31,
      "metadata": {
        "colab": {
          "base_uri": "https://localhost:8080/"
        },
        "id": "hByIg3ngD2lH",
        "outputId": "d893d165-3b11-47ca-f5fd-dd6f0ce7678f"
      },
      "outputs": [
        {
          "data": {
            "text/plain": [
              "tensor([[111120.4844],\n",
              "        [114136.4375],\n",
              "        [119163.0312],\n",
              "        [120168.3438],\n",
              "        [127205.5625],\n",
              "        [129216.2031]], grad_fn=<AddBackward0>)"
            ]
          },
          "execution_count": 31,
          "metadata": {},
          "output_type": "execute_result"
        }
      ],
      "source": [
        "# Printing predictions\n",
        "y_pred"
      ]
    },
    {
      "cell_type": "code",
      "execution_count": 32,
      "metadata": {
        "colab": {
          "base_uri": "https://localhost:8080/",
          "height": 445
        },
        "id": "gzNAN9hTrJgW",
        "outputId": "fbaede93-ea7d-4594-d6e8-45346424e2ea"
      },
      "outputs": [
        {
          "data": {
            "image/png": "[encoded data removed]",
            "text/plain": [
              "<Figure size 500x500 with 1 Axes>"
            ]
          },
          "metadata": {},
          "output_type": "display_data"
        }
      ],
      "source": [
        "# Visualizing the predictions\n",
        "plot_graph(x_train, y_train, x_test, y_test, predictions=y_pred.detach().numpy())"
      ]
    },
    {
      "cell_type": "code",
      "execution_count": 33,
      "metadata": {
        "colab": {
          "base_uri": "https://localhost:8080/"
        },
        "id": "eAW2_wnWDz9s",
        "outputId": "e2212a7e-653d-45a1-96b0-e7cedc279932"
      },
      "outputs": [
        {
          "data": {
            "text/plain": [
              "LinearRegressionModel()"
            ]
          },
          "execution_count": 33,
          "metadata": {},
          "output_type": "execute_result"
        }
      ],
      "source": [
        "model"
      ]
    },
    {
      "cell_type": "code",
      "execution_count": 34,
      "metadata": {
        "colab": {
          "base_uri": "https://localhost:8080/"
        },
        "id": "DnPq608h8Ji0",
        "outputId": "5566a903-2fa8-4f6a-8687-89f049804a97"
      },
      "outputs": [
        {
          "data": {
            "text/plain": [
              "tensor([[0.0000],\n",
              "        [0.0334],\n",
              "        [0.0669],\n",
              "        [0.1003],\n",
              "        [0.1338]])"
            ]
          },
          "execution_count": 34,
          "metadata": {},
          "output_type": "execute_result"
        }
      ],
      "source": [
        "# x-values for prediction line\n",
        "prediction_range = torch.linspace(0, 10, 300).unsqueeze(dim=1)\n",
        "prediction_range[:5]"
      ]
    },
    {
      "cell_type": "code",
      "execution_count": 35,
      "metadata": {
        "id": "n8489kI-8hN0"
      },
      "outputs": [],
      "source": [
        "# y-values for prediction line\n",
        "prediction_line = model(prediction_range)"
      ]
    },
    {
      "cell_type": "code",
      "execution_count": 36,
      "metadata": {
        "colab": {
          "base_uri": "https://localhost:8080/",
          "height": 445
        },
        "id": "jaJ1UyKj8sih",
        "outputId": "55df5e68-0a48-4fc1-a7fb-380d89b30406"
      },
      "outputs": [
        {
          "data": {
            "image/png": "[encoded data removed]",
            "text/plain": [
              "<Figure size 500x500 with 1 Axes>"
            ]
          },
          "metadata": {},
          "output_type": "display_data"
        }
      ],
      "source": [
        "# Plotting line\n",
        "plot_graph(x_train, y_train, x_test, y_test, predictions=prediction_line.detach().numpy(), prediction_range=prediction_range.detach().numpy())"
      ]
    },
    {
      "cell_type": "code",
      "execution_count": null,
      "metadata": {
        "id": "CrYMRCaV-WXv"
      },
      "outputs": [],
      "source": []
    }
  ],
  "metadata": {
    "accelerator": "GPU",
    "colab": {
      "gpuType": "T4",
      "provenance": []
    },
    "kernelspec": {
      "display_name": "PythonEnv",
      "language": "python",
      "name": "pythonenv"
    },
    "language_info": {
      "codemirror_mode": {
        "name": "ipython",
        "version": 3
      },
      "file_extension": ".py",
      "mimetype": "text/x-python",
      "name": "python",
      "nbconvert_exporter": "python",
      "pygments_lexer": "ipython3",
      "version": "3.11.7"
    }
  },
  "nbformat": 4,
  "nbformat_minor": 0
}
