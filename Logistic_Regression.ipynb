{
  "nbformat": 4,
  "nbformat_minor": 0,
  "metadata": {
    "colab": {
      "provenance": []
    },
    "kernelspec": {
      "name": "python3",
      "display_name": "Python 3"
    },
    "language_info": {
      "name": "python"
    }
  },
  "cells": [
    {
      "cell_type": "code",
      "execution_count": null,
      "metadata": {
        "id": "HlDiI5fA_Og1"
      },
      "outputs": [],
      "source": [
        "import torch\n",
        "from torch import nn\n",
        "import matplotlib.pyplot as plt\n",
        "import numpy as np\n",
        "import pandas as pd\n",
        "import torch.optim as optim\n",
        "import math"
      ]
    },
    {
      "cell_type": "code",
      "source": [
        "weight = 0.4\n",
        "bias = 0.5\n",
        "X = torch.linspace(-20,20,300).unsqueeze(dim=1)\n",
        "z = weight * X + bias"
      ],
      "metadata": {
        "id": "ujhnV7iN_jx2"
      },
      "execution_count": null,
      "outputs": []
    },
    {
      "cell_type": "code",
      "source": [
        "def plot_graph(x_train, y_train, x_test=None, y_test=None, prediction=None):\n",
        "  plt.plot(x_train, y_train)\n",
        "  if x_test is not None and y_test is not None:\n",
        "    plt.plot(x_test, y_test)\n",
        "  if prediction is not None:\n",
        "    plt.plot(x_test, prediction)\n",
        "  plt.show()"
      ],
      "metadata": {
        "id": "o8zfWuKnFD-w"
      },
      "execution_count": null,
      "outputs": []
    },
    {
      "cell_type": "code",
      "source": [
        "sigmoid = nn.Sigmoid()"
      ],
      "metadata": {
        "id": "zaeiAqxYF2jC"
      },
      "execution_count": null,
      "outputs": []
    },
    {
      "cell_type": "code",
      "source": [],
      "metadata": {
        "id": "8201TmuBTHZd"
      },
      "execution_count": null,
      "outputs": []
    },
    {
      "cell_type": "code",
      "source": [
        "y = sigmoid(z)"
      ],
      "metadata": {
        "id": "yWlGC6bRGPld"
      },
      "execution_count": null,
      "outputs": []
    },
    {
      "cell_type": "code",
      "source": [
        "plot_graph(X.numpy(), y.numpy())"
      ],
      "metadata": {
        "colab": {
          "base_uri": "https://localhost:8080/",
          "height": 430
        },
        "id": "FRHdTIXEFLim",
        "outputId": "54331480-70c6-4997-eaee-abfe9a132ed9"
      },
      "execution_count": null,
      "outputs": [
        {
          "output_type": "display_data",
          "data": {
            "text/plain": [
              "<Figure size 640x480 with 1 Axes>"
            ],
            "image/png": "[encoded data removed]"
          },
          "metadata": {}
        }
      ]
    },
    {
      "cell_type": "code",
      "source": [
        "x_train = X[:int(0.8*len(X))]\n",
        "y_train = y[:int(0.8*len(X))]\n",
        "x_test = X[int(0.8*len(X)):]\n",
        "y_test = y[int(0.8*len(X)):]"
      ],
      "metadata": {
        "id": "5G2lonTZ_j7k"
      },
      "execution_count": null,
      "outputs": []
    },
    {
      "cell_type": "code",
      "source": [
        "class LogisticRegression(nn.Module):\n",
        "    def __init__(self):\n",
        "        super().__init__()\n",
        "        self.weights = nn.Parameter(torch.rand(1, requires_grad=True))\n",
        "        self.bias = nn.Parameter(torch.rand(1, requires_grad=True))\n",
        "    def forward(self, x:torch.Tensor):\n",
        "        z= self.weights * x + self.bias\n",
        "        y = sigmoid(z)\n",
        "        return y\n"
      ],
      "metadata": {
        "id": "f-p_HnSKADPb"
      },
      "execution_count": null,
      "outputs": []
    },
    {
      "cell_type": "code",
      "source": [
        "#torch.manual_seed(42)\n",
        "model = LogisticRegression()"
      ],
      "metadata": {
        "id": "ke8hxe_CAD2v"
      },
      "execution_count": null,
      "outputs": []
    },
    {
      "cell_type": "code",
      "source": [
        "list(model.parameters())"
      ],
      "metadata": {
        "colab": {
          "base_uri": "https://localhost:8080/"
        },
        "id": "JE6rHAzIByfC",
        "outputId": "000e0376-9d51-4b79-feb1-6b4870922e76"
      },
      "execution_count": null,
      "outputs": [
        {
          "output_type": "execute_result",
          "data": {
            "text/plain": [
              "[Parameter containing:\n",
              " tensor([0.8823], requires_grad=True),\n",
              " Parameter containing:\n",
              " tensor([0.9150], requires_grad=True)]"
            ]
          },
          "metadata": {},
          "execution_count": 24
        }
      ]
    },
    {
      "cell_type": "code",
      "source": [
        "optimizer = optim.SGD(model.parameters(),lr=0.01)\n",
        "loss_fn = nn.BCELoss()"
      ],
      "metadata": {
        "id": "KpZJwpcbB8_K"
      },
      "execution_count": null,
      "outputs": []
    },
    {
      "cell_type": "code",
      "source": [
        "epochs = 3000\n",
        "\n",
        "model.train()\n",
        "for epoch in range(epochs):\n",
        "  y_pred = model(x_train)\n",
        "  loss = loss_fn(y_pred,y_train)\n",
        "  optimizer.zero_grad()\n",
        "  loss.backward()\n",
        "  optimizer.step()\n",
        "  print(f\"epoch: {epoch} loss: {loss}\")\n",
        "with torch.inference_mode():\n",
        "  y_pred = model(x_test)\n",
        "  test_loss = loss_fn(y_pred,y_test)\n"
      ],
      "metadata": {
        "id": "W413bgyUA7Qj"
      },
      "execution_count": null,
      "outputs": []
    },
    {
      "cell_type": "code",
      "source": [
        "print(f\"test loss: {test_loss}\")\n",
        "print(f\"Accuracy: {1 - test_loss}\")"
      ],
      "metadata": {
        "colab": {
          "base_uri": "https://localhost:8080/"
        },
        "id": "uD-sXzIgA7h-",
        "outputId": "e6676395-77b8-4ea3-e0d5-cd275a0fe6e5"
      },
      "execution_count": null,
      "outputs": [
        {
          "output_type": "stream",
          "name": "stdout",
          "text": [
            "test loss: 0.010529928840696812\n",
            "Accuracy: 0.9894700646400452\n"
          ]
        }
      ]
    },
    {
      "cell_type": "code",
      "source": [
        "plot_graph(x_train, y_train, x_test.numpy(), y_test.numpy(), y_pred.numpy())"
      ],
      "metadata": {
        "colab": {
          "base_uri": "https://localhost:8080/",
          "height": 430
        },
        "id": "-QHx3jtZEveH",
        "outputId": "48a25a13-c8a3-4a96-f565-c0dbee115e11"
      },
      "execution_count": null,
      "outputs": [
        {
          "output_type": "display_data",
          "data": {
            "text/plain": [
              "<Figure size 640x480 with 1 Axes>"
            ],
            "image/png": "[encoded data removed]"
          },
          "metadata": {}
        }
      ]
    },
    {
      "cell_type": "code",
      "source": [],
      "metadata": {
        "id": "B4l30QM3JCFh"
      },
      "execution_count": null,
      "outputs": []
    }
  ]
}